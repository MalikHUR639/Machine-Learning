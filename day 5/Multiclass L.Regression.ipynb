{
 "cells": [
  {
   "cell_type": "markdown",
   "metadata": {},
   "source": [
    "# Hand written digit detection"
   ]
  },
  {
   "cell_type": "code",
   "execution_count": 1,
   "metadata": {},
   "outputs": [],
   "source": [
    "import matplotlib.pyplot as plt\n",
    "%matplotlib inline\n",
    "from sklearn.datasets import load_digits\n",
    "digits=load_digits()"
   ]
  },
  {
   "cell_type": "code",
   "execution_count": 6,
   "metadata": {},
   "outputs": [
    {
     "data": {
      "text/plain": [
       "['DESCR', 'data', 'feature_names', 'frame', 'images', 'target', 'target_names']"
      ]
     },
     "execution_count": 6,
     "metadata": {},
     "output_type": "execute_result"
    }
   ],
   "source": [
    "dir(digits)"
   ]
  },
  {
   "cell_type": "code",
   "execution_count": 8,
   "metadata": {
    "scrolled": true
   },
   "outputs": [
    {
     "data": {
      "text/plain": [
       "array([[ 0.,  0.,  5., 13.,  9.,  1.,  0.,  0.],\n",
       "       [ 0.,  0., 13., 15., 10., 15.,  5.,  0.],\n",
       "       [ 0.,  3., 15.,  2.,  0., 11.,  8.,  0.],\n",
       "       [ 0.,  4., 12.,  0.,  0.,  8.,  8.,  0.],\n",
       "       [ 0.,  5.,  8.,  0.,  0.,  9.,  8.,  0.],\n",
       "       [ 0.,  4., 11.,  0.,  1., 12.,  7.,  0.],\n",
       "       [ 0.,  2., 14.,  5., 10., 12.,  0.,  0.],\n",
       "       [ 0.,  0.,  6., 13., 10.,  0.,  0.,  0.]])"
      ]
     },
     "execution_count": 8,
     "metadata": {},
     "output_type": "execute_result"
    }
   ],
   "source": [
    "digits.images[0]  #   8x8 matrixs "
   ]
  },
  {
   "cell_type": "code",
   "execution_count": 11,
   "metadata": {},
   "outputs": [
    {
     "data": {
      "text/plain": [
       "<Figure size 432x288 with 0 Axes>"
      ]
     },
     "metadata": {},
     "output_type": "display_data"
    },
    {
     "data": {
      "image/png": "[encoded data removed]",
      "text/plain": [
       "<Figure size 288x288 with 1 Axes>"
      ]
     },
     "metadata": {
      "needs_background": "light"
     },
     "output_type": "display_data"
    }
   ],
   "source": [
    "plt.gray()\n",
    "plt.matshow(digits.images[0])\n",
    "plt.show()"
   ]
  },
  {
   "cell_type": "code",
   "execution_count": 12,
   "metadata": {},
   "outputs": [],
   "source": [
    "from sklearn.linear_model import LogisticRegression\n",
    "model=LogisticRegression()"
   ]
  },
  {
   "cell_type": "code",
   "execution_count": 17,
   "metadata": {},
   "outputs": [],
   "source": [
    "from sklearn.model_selection import train_test_split\n",
    "X_train,X_test,Y_train,Y_test=train_test_split(digits.data,digits.target,test_size=0.2)"
   ]
  },
  {
   "cell_type": "code",
   "execution_count": 23,
   "metadata": {},
   "outputs": [
    {
     "data": {
      "text/plain": [
       "1797"
      ]
     },
     "execution_count": 23,
     "metadata": {},
     "output_type": "execute_result"
    }
   ],
   "source": [
    "# len(X_train)=1437\n",
    "# len(X_test)=360\n",
    "len(digits.data)"
   ]
  },
  {
   "cell_type": "code",
   "execution_count": 24,
   "metadata": {},
   "outputs": [
    {
     "name": "stderr",
     "output_type": "stream",
     "text": [
      "C:\\Users\\DELL\\anaconda3\\lib\\site-packages\\sklearn\\linear_model\\_logistic.py:762: ConvergenceWarning: lbfgs failed to converge (status=1):\n",
      "STOP: TOTAL NO. of ITERATIONS REACHED LIMIT.\n",
      "\n",
      "Increase the number of iterations (max_iter) or scale the data as shown in:\n",
      "    https://scikit-learn.org/stable/modules/preprocessing.html\n",
      "Please also refer to the documentation for alternative solver options:\n",
      "    https://scikit-learn.org/stable/modules/linear_model.html#logistic-regression\n",
      "  n_iter_i = _check_optimize_result(\n"
     ]
    },
    {
     "data": {
      "text/plain": [
       "LogisticRegression()"
      ]
     },
     "execution_count": 24,
     "metadata": {},
     "output_type": "execute_result"
    }
   ],
   "source": [
    "model.fit(X_train,Y_train)"
   ]
  },
  {
   "cell_type": "code",
   "execution_count": 25,
   "metadata": {},
   "outputs": [
    {
     "data": {
      "text/plain": [
       "array([7, 4, 5, 8, 9, 4, 0, 2, 9, 0, 5, 4, 1, 4, 5, 7, 5, 2, 0, 1, 7, 7,\n",
       "       8, 5, 3, 5, 5, 3, 0, 8, 4, 7, 0, 2, 6, 9, 8, 8, 1, 3, 6, 8, 3, 5,\n",
       "       9, 5, 5, 4, 6, 0, 2, 5, 4, 8, 8, 0, 8, 6, 6, 4, 0, 0, 2, 9, 8, 9,\n",
       "       2, 6, 8, 3, 1, 1, 2, 3, 9, 9, 8, 5, 0, 3, 2, 6, 1, 1, 9, 0, 5, 4,\n",
       "       2, 6, 1, 6, 3, 3, 9, 4, 4, 2, 3, 0, 1, 7, 9, 9, 3, 9, 9, 4, 4, 9,\n",
       "       3, 2, 9, 9, 2, 1, 5, 8, 1, 9, 7, 6, 3, 1, 1, 8, 3, 4, 9, 4, 4, 2,\n",
       "       7, 8, 9, 3, 4, 7, 1, 1, 0, 0, 0, 8, 6, 4, 1, 3, 0, 9, 5, 1, 7, 2,\n",
       "       6, 2, 0, 4, 2, 3, 0, 9, 1, 8, 6, 2, 2, 3, 8, 9, 0, 0, 9, 3, 7, 8,\n",
       "       1, 3, 5, 3, 0, 9, 1, 6, 3, 5, 7, 9, 0, 9, 2, 9, 2, 3, 1, 4, 4, 6,\n",
       "       6, 0, 0, 3, 6, 9, 3, 5, 5, 0, 7, 1, 4, 5, 5, 8, 5, 0, 7, 6, 9, 2,\n",
       "       1, 0, 3, 6, 3, 5, 6, 2, 8, 8, 6, 6, 8, 1, 2, 3, 7, 4, 2, 4, 8, 5,\n",
       "       1, 0, 9, 0, 7, 9, 8, 5, 6, 9, 0, 8, 8, 9, 3, 4, 7, 7, 9, 4, 3, 5,\n",
       "       8, 0, 4, 0, 5, 8, 9, 7, 3, 1, 5, 9, 4, 9, 3, 3, 7, 0, 2, 4, 5, 3,\n",
       "       7, 0, 3, 8, 2, 7, 3, 1, 6, 3, 7, 0, 6, 6, 2, 7, 3, 1, 8, 0, 0, 0,\n",
       "       6, 1, 3, 7, 2, 7, 6, 2, 1, 7, 3, 0, 4, 7, 0, 3, 3, 0, 8, 8, 9, 3,\n",
       "       9, 0, 7, 6, 0, 1, 1, 2, 9, 1, 7, 8, 4, 3, 1, 8, 6, 0, 1, 8, 0, 1,\n",
       "       3, 9, 8, 2, 0, 0, 7, 1])"
      ]
     },
     "execution_count": 25,
     "metadata": {},
     "output_type": "execute_result"
    }
   ],
   "source": [
    "model.predict(X_test)"
   ]
  },
  {
   "cell_type": "code",
   "execution_count": 26,
   "metadata": {},
   "outputs": [
    {
     "data": {
      "text/plain": [
       "array([7, 4, 5, 8, 9, 4, 0, 2, 9, 0, 5, 7, 1, 4, 5, 7, 5, 2, 0, 1, 7, 7,\n",
       "       8, 5, 3, 5, 5, 3, 0, 9, 4, 7, 0, 2, 6, 9, 8, 8, 1, 3, 6, 8, 3, 5,\n",
       "       9, 5, 5, 4, 6, 0, 2, 5, 4, 8, 8, 0, 8, 6, 6, 4, 0, 0, 2, 9, 8, 9,\n",
       "       2, 6, 8, 3, 1, 1, 2, 3, 9, 9, 8, 5, 0, 3, 2, 6, 1, 1, 9, 0, 5, 4,\n",
       "       2, 6, 8, 6, 3, 3, 5, 4, 4, 2, 3, 0, 1, 7, 9, 9, 3, 9, 9, 4, 4, 1,\n",
       "       3, 2, 9, 3, 2, 1, 5, 8, 1, 9, 7, 6, 3, 1, 1, 8, 3, 4, 9, 4, 4, 2,\n",
       "       7, 8, 9, 3, 4, 7, 1, 1, 0, 0, 0, 8, 6, 4, 1, 3, 0, 9, 5, 8, 7, 2,\n",
       "       6, 2, 0, 4, 2, 3, 5, 9, 1, 8, 6, 2, 2, 3, 8, 9, 0, 0, 9, 3, 7, 8,\n",
       "       1, 3, 5, 3, 0, 9, 1, 6, 3, 9, 7, 9, 0, 7, 2, 9, 2, 3, 1, 5, 4, 6,\n",
       "       6, 0, 0, 3, 6, 9, 3, 5, 5, 0, 7, 1, 4, 5, 5, 8, 5, 0, 7, 6, 9, 2,\n",
       "       1, 0, 3, 6, 3, 5, 6, 2, 8, 8, 6, 6, 9, 1, 2, 3, 7, 4, 2, 4, 8, 5,\n",
       "       1, 0, 9, 0, 7, 9, 8, 5, 6, 9, 0, 8, 8, 9, 3, 4, 7, 7, 9, 4, 3, 5,\n",
       "       8, 0, 4, 0, 5, 9, 9, 7, 3, 1, 5, 9, 4, 9, 3, 3, 7, 0, 2, 4, 5, 3,\n",
       "       7, 0, 3, 3, 2, 7, 3, 1, 6, 3, 7, 0, 6, 6, 2, 7, 3, 1, 8, 0, 0, 0,\n",
       "       6, 1, 3, 7, 2, 7, 6, 2, 1, 7, 3, 0, 4, 7, 0, 3, 3, 0, 8, 8, 9, 3,\n",
       "       9, 0, 7, 6, 0, 1, 1, 2, 9, 1, 7, 8, 4, 3, 1, 8, 6, 0, 1, 8, 0, 1,\n",
       "       3, 9, 8, 2, 0, 0, 7, 1])"
      ]
     },
     "execution_count": 26,
     "metadata": {},
     "output_type": "execute_result"
    }
   ],
   "source": [
    "Y_test"
   ]
  },
  {
   "cell_type": "code",
   "execution_count": 27,
   "metadata": {},
   "outputs": [
    {
     "data": {
      "text/plain": [
       "0.9611111111111111"
      ]
     },
     "execution_count": 27,
     "metadata": {},
     "output_type": "execute_result"
    }
   ],
   "source": [
    "model.score(X_test,Y_test)"
   ]
  },
  {
   "cell_type": "markdown",
   "metadata": {},
   "source": [
    "# Use iris dataset of sklearn library\n",
    "# and design a model"
   ]
  },
  {
   "cell_type": "code",
   "execution_count": 72,
   "metadata": {},
   "outputs": [],
   "source": [
    "import matplotlib.pyplot as plt\n",
    "%matplotlib inline\n",
    "from sklearn.datasets import load_iris\n",
    "iris=load_iris()\n",
    "from sklearn.linear_model import LogisticRegression\n",
    "model=LogisticRegression()\n",
    "from sklearn.metrics import confusion_matrix\n",
    "from sklearn.model_selection import train_test_split\n",
    "X_train,X_test,Y_train,Y_test=train_test_split(iris.data,iris.target,test_size=0.3)"
   ]
  },
  {
   "cell_type": "code",
   "execution_count": 73,
   "metadata": {},
   "outputs": [
    {
     "name": "stderr",
     "output_type": "stream",
     "text": [
      "C:\\Users\\DELL\\anaconda3\\lib\\site-packages\\sklearn\\linear_model\\_logistic.py:762: ConvergenceWarning: lbfgs failed to converge (status=1):\n",
      "STOP: TOTAL NO. of ITERATIONS REACHED LIMIT.\n",
      "\n",
      "Increase the number of iterations (max_iter) or scale the data as shown in:\n",
      "    https://scikit-learn.org/stable/modules/preprocessing.html\n",
      "Please also refer to the documentation for alternative solver options:\n",
      "    https://scikit-learn.org/stable/modules/linear_model.html#logistic-regression\n",
      "  n_iter_i = _check_optimize_result(\n"
     ]
    },
    {
     "data": {
      "text/plain": [
       "LogisticRegression()"
      ]
     },
     "execution_count": 73,
     "metadata": {},
     "output_type": "execute_result"
    }
   ],
   "source": [
    "model.fit(X_train,Y_train)"
   ]
  },
  {
   "cell_type": "code",
   "execution_count": 74,
   "metadata": {},
   "outputs": [],
   "source": [
    "pridicted=model.predict(X_test)"
   ]
  },
  {
   "cell_type": "code",
   "execution_count": 75,
   "metadata": {},
   "outputs": [
    {
     "data": {
      "text/plain": [
       "array([1, 2, 1, 2, 2, 0, 1, 1, 1, 0, 0, 2, 1, 2, 1, 2, 0, 2, 2, 1, 0, 1,\n",
       "       0, 0, 0, 1, 1, 2, 2, 0, 0, 2, 1, 2, 1, 0, 1, 0, 1, 2, 0, 1, 1, 0,\n",
       "       0])"
      ]
     },
     "execution_count": 75,
     "metadata": {},
     "output_type": "execute_result"
    }
   ],
   "source": [
    "model.predict(X_test)"
   ]
  },
  {
   "cell_type": "code",
   "execution_count": 76,
   "metadata": {
    "scrolled": true
   },
   "outputs": [
    {
     "data": {
      "text/plain": [
       "array([1, 2, 1, 2, 2, 0, 1, 1, 1, 0, 0, 2, 1, 2, 1, 2, 0, 2, 2, 1, 0, 1,\n",
       "       0, 0, 0, 1, 1, 2, 2, 0, 0, 2, 1, 2, 1, 0, 1, 0, 1, 2, 0, 2, 1, 0,\n",
       "       0])"
      ]
     },
     "execution_count": 76,
     "metadata": {},
     "output_type": "execute_result"
    }
   ],
   "source": [
    "Y_test"
   ]
  },
  {
   "cell_type": "code",
   "execution_count": 77,
   "metadata": {},
   "outputs": [
    {
     "data": {
      "text/plain": [
       "0.9777777777777777"
      ]
     },
     "execution_count": 77,
     "metadata": {},
     "output_type": "execute_result"
    }
   ],
   "source": [
    "model.score(X_test,Y_test)"
   ]
  },
  {
   "cell_type": "code",
   "execution_count": 79,
   "metadata": {},
   "outputs": [
    {
     "data": {
      "text/plain": [
       "array([[15,  0,  0],\n",
       "       [ 0, 16,  0],\n",
       "       [ 0,  1, 13]], dtype=int64)"
      ]
     },
     "execution_count": 79,
     "metadata": {},
     "output_type": "execute_result"
    }
   ],
   "source": [
    "cm=confusion_matrix(Y_test,pridicted)\n",
    "cm"
   ]
  },
  {
   "cell_type": "code",
   "execution_count": 82,
   "metadata": {},
   "outputs": [
    {
     "data": {
      "text/plain": [
       "Text(51.0, 0.5, 'Truth')"
      ]
     },
     "execution_count": 82,
     "metadata": {},
     "output_type": "execute_result"
    },
    {
     "data": {
      "image/png": "[encoded data removed]",
      "text/plain": [
       "<Figure size 576x504 with 2 Axes>"
      ]
     },
     "metadata": {
      "needs_background": "light"
     },
     "output_type": "display_data"
    }
   ],
   "source": [
    "import seaborn as sns\n",
    "plt.figure(figsize=(8,7))\n",
    "sns.heatmap(cm,annot=True)\n",
    "plt.xlabel(\"Predicted\")\n",
    "plt.ylabel(\"Truth\")"
   ]
  }
 ],
 "metadata": {
  "kernelspec": {
   "display_name": "Python 3",
   "language": "python",
   "name": "python3"
  },
  "language_info": {
   "codemirror_mode": {
    "name": "ipython",
    "version": 3
   },
   "file_extension": ".py",
   "mimetype": "text/x-python",
   "name": "python",
   "nbconvert_exporter": "python",
   "pygments_lexer": "ipython3",
   "version": "3.8.5"
  }
 },
 "nbformat": 4,
 "nbformat_minor": 4
}
